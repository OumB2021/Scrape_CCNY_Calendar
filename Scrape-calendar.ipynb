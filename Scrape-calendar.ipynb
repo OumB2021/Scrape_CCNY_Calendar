{
 "cells": [
  {
   "cell_type": "code",
   "execution_count": 11,
   "metadata": {},
   "outputs": [],
   "source": [
    "# Import necessary libraries\n",
    "\n",
    "import pandas as pd\n",
    "import requests\n",
    "from bs4 import BeautifulSoup"
   ]
  },
  {
   "cell_type": "code",
   "execution_count": null,
   "metadata": {},
   "outputs": [],
   "source": [
    "# GET request on url and usage of Beautiful Soup to parse the html content\n",
    "\n",
    "url = \"https://www.ccny.cuny.edu/registrar/fall\"\n",
    "r = requests.get(url)               # Make a get request on the url\n",
    "html_doc = r.text                   # Get the html content of the page\n",
    "soup = BeautifulSoup(html_doc)      # Parse the html content using beautiful soup\n",
    "table = soup.find('table')          # Get the table"
   ]
  },
  {
   "cell_type": "code",
   "execution_count": null,
   "metadata": {},
   "outputs": [
    {
     "name": "stdout",
     "output_type": "stream",
     "text": [
      "Rows <tr>\n",
      "<th class=\"text-align-left\" scope=\"col\" style=\"width: 305px;\">DATES</th>\n",
      "<th class=\"text-align-left\" scope=\"col\" style=\"width: 327px;\">DAYS</th>\n",
      "<th scope=\"col\" style=\"width: 617px;\"> </th>\n",
      "</tr>\n",
      "DATES\n",
      "DAYS\n",
      "\n"
     ]
    }
   ],
   "source": [
    "# Get all the rows of the table and iterate through them\n",
    "rows = table.find_all('tr')\n",
    "print(\"Rows\", rows[0])\n",
    "table_headers = rows[0].find_all('th')\n",
    "for header in table_headers:\n",
    "    print(header.text.strip())\n",
    "\n",
    "data = []                         # Create an empty list to store the data\n",
    "\n",
    "# Header table only has ('th' html element)\n",
    "# for row in rows[1:]:\n",
    "#     columns = row.find_all('td')   \n",
    "#     print(f\"columns: {columns} type:{type(columns)}\") \n",
    "#     date = columns[0].text.strip()\n",
    "#     day = columns[1].get_text()\n",
    "#     description = columns[2].get_text()\n",
    "#     data.append([date, day, description])  # Append the data to the list\n",
    "\n",
    "# print(data)"
   ]
  }
 ],
 "metadata": {
  "kernelspec": {
   "display_name": "Python 3",
   "language": "python",
   "name": "python3"
  },
  "language_info": {
   "codemirror_mode": {
    "name": "ipython",
    "version": 3
   },
   "file_extension": ".py",
   "mimetype": "text/x-python",
   "name": "python",
   "nbconvert_exporter": "python",
   "pygments_lexer": "ipython3",
   "version": "3.13.2"
  }
 },
 "nbformat": 4,
 "nbformat_minor": 2
}
