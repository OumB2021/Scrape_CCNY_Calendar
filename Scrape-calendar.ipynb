{
 "cells": [
  {
   "cell_type": "code",
   "execution_count": 39,
   "metadata": {},
   "outputs": [],
   "source": [
    "# Import necessary libraries\n",
    "\n",
    "import pandas as pd\n",
    "import requests\n",
    "from bs4 import BeautifulSoup"
   ]
  },
  {
   "cell_type": "code",
   "execution_count": 40,
   "metadata": {},
   "outputs": [],
   "source": [
    "# GET request on url and usage of Beautiful Soup to parse the html content\n",
    "\n",
    "url = \"https://www.ccny.cuny.edu/registrar/fall\"\n",
    "r = requests.get(url)               # Make a get request on the url\n",
    "html_doc = r.text                   # Get the html content of the page\n",
    "soup = BeautifulSoup(html_doc)      # Parse the html content using beautiful soup\n",
    "table = soup.find('table')          # Get the table"
   ]
  },
  {
   "cell_type": "code",
   "execution_count": 41,
   "metadata": {},
   "outputs": [],
   "source": [
    "# Get all the rows of the table and iterate through them\n",
    "\n",
    "rows = table.find_all('tr')\n",
    "data = []                           # Create an empty list to store the data\n",
    "\n",
    "# Header table only has ('th' html element)\n",
    "for row in rows[1:]:\n",
    "    columns = row.find_all('td')   \n",
    "    date = columns[0].text.strip()\n",
    "    day = columns[1].text.strip()\n",
    "    \n",
    "    # Description is a list of strings, so we need to join them\n",
    "    description = ' '.join(columns[2].stripped_strings)\n",
    "    data.append([date, day, description]) \n"
   ]
  },
  {
   "cell_type": "code",
   "execution_count": 42,
   "metadata": {},
   "outputs": [
    {
     "name": "stdout",
     "output_type": "stream",
     "text": [
      "                                Dow  \\\n",
      "Date                                  \n",
      "August 01                    Sunday   \n",
      "August 18                 Wednesday   \n",
      "August 24                   Tuesday   \n",
      "August 25                 Wednesday   \n",
      "August 25 - 31  Wednesday - Tuesday   \n",
      "\n",
      "                                                             Text  \n",
      "Date                                                               \n",
      "August 01       Application for degree for January and Februar...  \n",
      "August 18                      Last day to apply for Study Abroad  \n",
      "August 24       Last day of Registration; Last day to file ePe...  \n",
      "August 25       Start of Fall Term; Classes begin; Initial Reg...  \n",
      "August 25 - 31          Change of program period; late fees apply  \n"
     ]
    }
   ],
   "source": [
    "# Create a pandas dataframe from the list\n",
    "\n",
    "cuny_df = pd.DataFrame(data, columns=['Date', 'Dow', 'Text'])\n",
    "cuny_df.set_index('Date', inplace=True)  # Set the index to the Date column\n",
    "\n",
    "print(cuny_df.head())                   # Print the head of the dataframe"
   ]
  }
 ],
 "metadata": {
  "kernelspec": {
   "display_name": "Python 3",
   "language": "python",
   "name": "python3"
  },
  "language_info": {
   "codemirror_mode": {
    "name": "ipython",
    "version": 3
   },
   "file_extension": ".py",
   "mimetype": "text/x-python",
   "name": "python",
   "nbconvert_exporter": "python",
   "pygments_lexer": "ipython3",
   "version": "3.13.2"
  }
 },
 "nbformat": 4,
 "nbformat_minor": 2
}
